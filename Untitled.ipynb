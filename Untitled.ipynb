{
 "cells": [
  {
   "cell_type": "code",
   "execution_count": 5,
   "id": "accepted-wireless",
   "metadata": {},
   "outputs": [
    {
     "name": "stdout",
     "output_type": "stream",
     "text": [
      "(1, 2)\n",
      "1\n",
      "2\n",
      "3\n"
     ]
    }
   ],
   "source": [
    "\n",
    "def test1():\n",
    "    global a\n",
    "    global b\n",
    "    a = 1\n",
    "    b = 2\n",
    "    return a, b\n",
    "\n",
    "def test2():\n",
    "    print(a)\n",
    "    print(b)\n",
    "    \n",
    "    return a+b\n",
    "\n",
    "print(test1())\n",
    "print(test2())\n"
   ]
  },
  {
   "cell_type": "code",
   "execution_count": null,
   "id": "spatial-nursery",
   "metadata": {},
   "outputs": [],
   "source": []
  }
 ],
 "metadata": {
  "kernelspec": {
   "display_name": "Python 3",
   "language": "python",
   "name": "python3"
  },
  "language_info": {
   "codemirror_mode": {
    "name": "ipython",
    "version": 3
   },
   "file_extension": ".py",
   "mimetype": "text/x-python",
   "name": "python",
   "nbconvert_exporter": "python",
   "pygments_lexer": "ipython3",
   "version": "3.8.8"
  }
 },
 "nbformat": 4,
 "nbformat_minor": 5
}
